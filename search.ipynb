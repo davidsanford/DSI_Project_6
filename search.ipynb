{
 "cells": [
  {
   "cell_type": "code",
   "execution_count": 1,
   "metadata": {
    "collapsed": false
   },
   "outputs": [
    {
     "name": "stdout",
     "output_type": "stream",
     "text": [
      "Connected to server joshuacook.me.\n",
      "Searching top pages for term: \" measuring the secrets of the universe \"\n",
      "      page_id                          title                 created_at  \\\n",
      "404   8065677  Distance measures (cosmology) 2017-02-06 04:28:48.630746   \n",
      "42     144417              Comoving distance 2017-02-06 04:28:41.450237   \n",
      "79    3166203            Luminosity distance 2017-02-06 04:29:50.646876   \n",
      "2242  3003448      Angular diameter distance 2017-02-06 04:28:27.222818   \n",
      "569     26262                       Redshift 2017-02-06 04:30:53.592090   \n",
      "\n",
      "                                                   page  \n",
      "404   Distance measures are used in physical cosmolo...  \n",
      "42    In standard cosmology, comoving distance and p...  \n",
      "79    Luminosity distance DL is defined in terms of ...  \n",
      "2242  The angular diameter distance is a distance me...  \n",
      "569   In physics, redshift happens when light or oth...  \n"
     ]
    }
   ],
   "source": [
    "!./search measuring the secrets of the universe"
   ]
  },
  {
   "cell_type": "code",
   "execution_count": 2,
   "metadata": {
    "collapsed": false
   },
   "outputs": [
    {
     "name": "stdout",
     "output_type": "stream",
     "text": [
      "Connected to server joshuacook.me.\n",
      "Searching top pages for term: \" it is dinnertime and I am hungry \"\n",
      "       page_id                            title                 created_at  \\\n",
      "88     4315021                    Grease trucks 2017-02-03 00:49:18.958807   \n",
      "1589   8581665                   Spot reduction 2017-02-04 02:14:00.899372   \n",
      "197    7803365                       Zapiekanka 2017-02-03 00:50:13.733567   \n",
      "1411  14641991  Pilka nozna magazine plebiscite 2017-02-04 02:09:46.925123   \n",
      "183   13846812               Tuna fish sandwich 2017-02-03 00:50:09.393703   \n",
      "\n",
      "                                                   page  \n",
      "88    Grease trucks are a group of food trucks locat...  \n",
      "1589  Spot reduction refers to the fallacy that fat ...  \n",
      "197   A zapiekanka (Polish pronunciation: [zapʲɛˈkaŋ...  \n",
      "1411  The Piłka Nożna Magazine Plebiscite is an annu...  \n",
      "183   A tuna fish sandwich, also known as a tuna sal...  \n"
     ]
    }
   ],
   "source": [
    "!./search it is dinnertime and I am hungry"
   ]
  },
  {
   "cell_type": "code",
   "execution_count": null,
   "metadata": {
    "collapsed": true
   },
   "outputs": [],
   "source": []
  }
 ],
 "metadata": {
  "kernelspec": {
   "display_name": "Python [conda root]",
   "language": "python",
   "name": "conda-root-py"
  },
  "language_info": {
   "codemirror_mode": {
    "name": "ipython",
    "version": 2
   },
   "file_extension": ".py",
   "mimetype": "text/x-python",
   "name": "python",
   "nbconvert_exporter": "python",
   "pygments_lexer": "ipython2",
   "version": "2.7.12"
  }
 },
 "nbformat": 4,
 "nbformat_minor": 2
}
